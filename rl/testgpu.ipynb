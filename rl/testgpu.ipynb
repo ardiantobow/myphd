{
 "cells": [
  {
   "cell_type": "code",
   "execution_count": 2,
   "metadata": {},
   "outputs": [
    {
     "name": "stdout",
     "output_type": "stream",
     "text": [
      "Device:  cuda\n"
     ]
    }
   ],
   "source": [
    "import torch\n",
    "\n",
    "# Assuming `use_cuda` is a boolean variable indicating whether to use CUDA or not\n",
    "use_cuda = True  # Change this according to your setup\n",
    "\n",
    "device = torch.device(\"cuda\" if use_cuda else \"cpu\")\n",
    "print(\"Device: \", device)\n"
   ]
  },
  {
   "cell_type": "code",
   "execution_count": 6,
   "metadata": {},
   "outputs": [
    {
     "name": "stdout",
     "output_type": "stream",
     "text": [
      "Device: /GPU:0\n"
     ]
    }
   ],
   "source": [
    "import tensorflow as tf\n",
    "\n",
    "# Assuming `use_gpu` is a boolean variable indicating whether to use GPU or not\n",
    "use_gpu = True  # Change this according to your setup\n",
    "\n",
    "if use_gpu:\n",
    "    # Check if GPU is available\n",
    "    if tf.config.list_physical_devices('GPU'):\n",
    "        # Set TensorFlow to use GPU\n",
    "        tf.config.experimental.set_memory_growth(tf.config.list_physical_devices('GPU')[0], True)\n",
    "        device_name = \"/GPU:0\"  # You can specify the GPU device number if you have multiple GPUs\n",
    "    else:\n",
    "        print(\"GPU is not available. Switching to CPU.\")\n",
    "        device_name = \"/CPU:0\"\n",
    "else:\n",
    "    # Set TensorFlow to use CPU\n",
    "    device_name = \"/CPU:0\"\n",
    "\n",
    "print(\"Device:\", device_name)\n"
   ]
  }
 ],
 "metadata": {
  "kernelspec": {
   "display_name": "mygym",
   "language": "python",
   "name": "python3"
  },
  "language_info": {
   "codemirror_mode": {
    "name": "ipython",
    "version": 3
   },
   "file_extension": ".py",
   "mimetype": "text/x-python",
   "name": "python",
   "nbconvert_exporter": "python",
   "pygments_lexer": "ipython3",
   "version": "3.10.12"
  }
 },
 "nbformat": 4,
 "nbformat_minor": 2
}
