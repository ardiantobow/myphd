{
 "cells": [
  {
   "cell_type": "code",
   "execution_count": 34,
   "metadata": {},
   "outputs": [
    {
     "name": "stdout",
     "output_type": "stream",
     "text": [
      "Original tensor: tensor([[[1, 2, 3, 4, 5],\n",
      "         [4, 5, 6, 7, 8]]])\n",
      "Original tensor shape: torch.Size([1, 2, 5])\n",
      "----\n",
      "Tensor after unsqueeze at position 0: tensor([[[[1, 2, 3, 4, 5]],\n",
      "\n",
      "         [[4, 5, 6, 7, 8]]]])\n",
      "Shape after unsqueeze at position 0: torch.Size([1, 2, 1, 5])\n"
     ]
    }
   ],
   "source": [
    "import torch\n",
    "\n",
    "tensor = torch.tensor([[[1, 2, 3, 4, 5], [4, 5, 6, 7, 8]]])\n",
    "print(\"Original tensor:\", tensor)  # Output: torch.Size([2, 3])\n",
    "print(\"Original tensor shape:\", tensor.shape)  # Output: torch.Size([2, 3])\n",
    "print(\"----\")\n",
    "\n",
    "# Adding a singleton dimension at position 0\n",
    "tensor_unsqueezed = torch.unsqueeze(tensor, 2)\n",
    "print(\"Tensor after unsqueeze at position 0:\", tensor_unsqueezed)  # Output: torch.Size([1, 2, 3])\n",
    "print(\"Shape after unsqueeze at position 0:\", tensor_unsqueezed.shape)  # Output: torch.Size([1, 2, 3])\n",
    "\n",
    "# Adding a singleton dimension at position 2\n",
    "# tensor_unsqueezed = torch.unsqueeze(tensor, 2)\n",
    "# print(\"Shape after unsqueeze at position 2:\", tensor_unsqueezed.shape)  # Output: torch.Size([2, 3, 1])\n"
   ]
  }
 ],
 "metadata": {
  "kernelspec": {
   "display_name": ".venv",
   "language": "python",
   "name": "python3"
  },
  "language_info": {
   "codemirror_mode": {
    "name": "ipython",
    "version": 3
   },
   "file_extension": ".py",
   "mimetype": "text/x-python",
   "name": "python",
   "nbconvert_exporter": "python",
   "pygments_lexer": "ipython3",
   "version": "3.10.12"
  }
 },
 "nbformat": 4,
 "nbformat_minor": 2
}
