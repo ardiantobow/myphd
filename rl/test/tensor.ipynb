{
 "cells": [
  {
   "cell_type": "code",
   "execution_count": 13,
   "metadata": {},
   "outputs": [
    {
     "name": "stdout",
     "output_type": "stream",
     "text": [
      "tensor([[2., 0., 0., 0., 0., 0.]])\n",
      "torch.Size([2, 6])\n",
      "(tensor([2]), tensor([[3., 5., 1., 4., 6., 8.],\n",
      "        [2., 0., 0., 0., 0., 0.]]))\n"
     ]
    }
   ],
   "source": [
    "import torch\n",
    "\n",
    "device = \"cpu\"\n",
    "# Assuming physical_action is a 1D tensor\n",
    "physical_action = torch.tensor([2], device=device)\n",
    "\n",
    "# Assuming communication_problem_action is a 2D tensor\n",
    "communication_problem_action = torch.tensor([[3, 5, 1, 4, 6, 8]], device=device)\n",
    "\n",
    "# Get the shape of communication_problem_action\n",
    "num_rows, num_cols = communication_problem_action.shape\n",
    "\n",
    "# Determine the number of values in physical_action\n",
    "num_values = len(physical_action)\n",
    "\n",
    "# Calculate the amount of padding needed\n",
    "padding_needed = num_cols - num_values\n",
    "\n",
    "# Pad physical_action to match the shape of communication_problem_action\n",
    "if padding_needed > 0:\n",
    "    physical_action_padded = torch.cat((physical_action, torch.zeros(padding_needed, device=device)))\n",
    "else:\n",
    "    physical_action_padded = physical_action[:num_cols]\n",
    "\n",
    "# Create communication_solution_action with the same shape as communication_problem_action\n",
    "communication_solution_action = physical_action_padded.repeat(num_rows, 1)\n",
    "\n",
    "# Now, communication_solution_action has the same tensor size as communication_problem_action\n",
    "print(communication_solution_action)  # Output: torch.Size([1, 6])\n",
    "\n",
    "communication_action = torch.cat((communication_problem_action, communication_solution_action), dim=0)\n",
    "print(communication_action.shape)  # Output: torch.Size([1, 6])\n",
    "\n",
    "action = (physical_action, communication_action)\n",
    "print(action)"
   ]
  }
 ],
 "metadata": {
  "kernelspec": {
   "display_name": ".venv",
   "language": "python",
   "name": "python3"
  },
  "language_info": {
   "codemirror_mode": {
    "name": "ipython",
    "version": 3
   },
   "file_extension": ".py",
   "mimetype": "text/x-python",
   "name": "python",
   "nbconvert_exporter": "python",
   "pygments_lexer": "ipython3",
   "version": "3.10.12"
  }
 },
 "nbformat": 4,
 "nbformat_minor": 2
}
