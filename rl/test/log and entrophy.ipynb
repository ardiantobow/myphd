{
 "cells": [
  {
   "cell_type": "code",
   "execution_count": 11,
   "metadata": {},
   "outputs": [
    {
     "name": "stdout",
     "output_type": "stream",
     "text": [
      "log probs: tensor([-0.3567, -1.6094, -2.3026])\n",
      "Action dist: Categorical(probs: torch.Size([3]))\n",
      "Action: 1\n",
      "Log prob of action: -1.6094379425048828\n",
      "Sampled action: 1, Log prob: -1.6094379425048828\n"
     ]
    }
   ],
   "source": [
    "import torch\n",
    "\n",
    "# Example probabilities for three actions\n",
    "probs = torch.tensor([0.7, 0.2, 0.1])\n",
    "log_probs = torch.log(probs)\n",
    "print(f\"log probs: {log_probs}\")\n",
    "\n",
    "# Create a categorical distribution based on these probabilities\n",
    "action_dist = torch.distributions.Categorical(probs)\n",
    "print(f\"Action dist: {action_dist}\")\n",
    "\n",
    "# Sample an action\n",
    "action = action_dist.sample()\n",
    "print(f\"Action: {action}\")\n",
    "\n",
    "# Calculate the log probability of the sampled action\n",
    "log_prob_of_action = action_dist.log_prob(action)\n",
    "print(f\"Log prob of action: {log_prob_of_action}\")\n",
    "\n",
    "print(f\"Sampled action: {action.item()}, Log prob: {log_prob_of_action.item()}\")\n",
    "\n",
    "print (f\"Exponential result: {torch.exp(log_prob_of_action)}\")"
   ]
  }
 ],
 "metadata": {
  "kernelspec": {
   "display_name": ".venv",
   "language": "python",
   "name": "python3"
  },
  "language_info": {
   "codemirror_mode": {
    "name": "ipython",
    "version": 3
   },
   "file_extension": ".py",
   "mimetype": "text/x-python",
   "name": "python",
   "nbconvert_exporter": "python",
   "pygments_lexer": "ipython3",
   "version": "3.10.12"
  }
 },
 "nbformat": 4,
 "nbformat_minor": 2
}
