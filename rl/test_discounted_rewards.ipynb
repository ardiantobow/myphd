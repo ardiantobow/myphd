{
 "cells": [
  {
   "cell_type": "code",
   "execution_count": 38,
   "metadata": {},
   "outputs": [
    {
     "name": "stdout",
     "output_type": "stream",
     "text": [
      "[1, 3, 5]\n",
      "0\n",
      "1\n",
      "2\n",
      "[9, 8, 5]\n"
     ]
    }
   ],
   "source": [
    "import torch\n",
    "\n",
    "# # Define input tensor with probabilities\n",
    "# input_tensor = torch.tensor([0.1, 0.4, 0.3, 0.2])\n",
    "\n",
    "# # Sample 5 indices from the multinomial distribution\n",
    "# sampled_indices = torch.multinomial(input_tensor, 1, replacement=True)\n",
    "\n",
    "# print(sampled_indices)\n",
    "\n",
    "# Discounted rewards function\n",
    "def discount_returns(rewards, gamma=0.99):\n",
    "    discounted_returns = []\n",
    "    running_add = 0\n",
    "    for t, r in enumerate(reversed(rewards)):\n",
    "        print(t)\n",
    "        running_add = running_add * gamma ** t + r\n",
    "        # running_add = running_add + r\n",
    "        discounted_returns.insert(0, running_add)\n",
    "    return discounted_returns\n",
    "\n",
    "#reverse\n",
    "rewards = [1]\n",
    "# print(rewards)\n",
    "rewards.append(3)\n",
    "# print(rewards)\n",
    "rewards.append(5)\n",
    "print(rewards)\n",
    "result = discount_returns(rewards)\n",
    "reverse = reversed(rewards)\n",
    "# print(list(reverse))\n",
    "print(result)"
   ]
  }
 ],
 "metadata": {
  "kernelspec": {
   "display_name": ".venv",
   "language": "python",
   "name": "python3"
  },
  "language_info": {
   "codemirror_mode": {
    "name": "ipython",
    "version": 3
   },
   "file_extension": ".py",
   "mimetype": "text/x-python",
   "name": "python",
   "nbconvert_exporter": "python",
   "pygments_lexer": "ipython3",
   "version": "3.10.12"
  }
 },
 "nbformat": 4,
 "nbformat_minor": 2
}
