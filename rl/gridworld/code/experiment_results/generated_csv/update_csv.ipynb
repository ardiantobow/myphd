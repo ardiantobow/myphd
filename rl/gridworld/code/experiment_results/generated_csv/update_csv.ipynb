{
 "cells": [
  {
   "cell_type": "code",
   "execution_count": 2,
   "metadata": {},
   "outputs": [
    {
     "name": "stdout",
     "output_type": "stream",
     "text": [
      "CSV files have been successfully updated and stored in './d-ga-comm-updated/'.\n"
     ]
    }
   ],
   "source": [
    "import os\n",
    "import pandas as pd\n",
    "\n",
    "# Folder path containing CSV files in the current directory and target folder for modified files\n",
    "folder_path = './d-ga-comm3/'\n",
    "output_folder = './d-ga-comm3-updated/'\n",
    "\n",
    "# Create the output folder if it doesn't exist\n",
    "if not os.path.exists(output_folder):\n",
    "    os.makedirs(output_folder)\n",
    "\n",
    "# Loop through all CSV files in the specified folder\n",
    "for filename in os.listdir(folder_path):\n",
    "    if filename.endswith('.csv'):\n",
    "        file_path = os.path.join(folder_path, filename)\n",
    "        \n",
    "        # Load the data from the CSV file\n",
    "        df = pd.read_csv(file_path)\n",
    "        \n",
    "        # Dynamically identify the number of agents based on rewards and case columns\n",
    "        total_case_columns = [col for col in df.columns if col.startswith('total_case_agent_')]\n",
    "        reward_columns = [col for col in df.columns if col.startswith('rewards_agent_')]\n",
    "\n",
    "        # Calculate the average of the total_case_agent and rewards_agent columns\n",
    "        df['total_case_agents'] = df[total_case_columns].mean(axis=1)\n",
    "        df['rewards_agents'] = df[reward_columns].mean(axis=1)\n",
    "\n",
    "        # Select the required columns with modified header names\n",
    "        updated_df = df[['eps', 'inc_success', 'dec_unsuccess', 'dec_success_nocase',\n",
    "                         'total_case_agents', 'rewards_agents', 'total_steps',\n",
    "                         'del_threshold', 'eps_status', 'grid_size', 'num_agents']]\n",
    "\n",
    "        # Save the updated DataFrame to a new CSV file in the output folder\n",
    "        output_file_path = os.path.join(output_folder, filename)\n",
    "        updated_df.to_csv(output_file_path, index=False)\n",
    "\n",
    "# Output message confirming completion\n",
    "print(\"CSV files have been successfully updated and stored in './d-ga-comm-updated/'.\")\n"
   ]
  }
 ],
 "metadata": {
  "kernelspec": {
   "display_name": ".venv",
   "language": "python",
   "name": "python3"
  },
  "language_info": {
   "codemirror_mode": {
    "name": "ipython",
    "version": 3
   },
   "file_extension": ".py",
   "mimetype": "text/x-python",
   "name": "python",
   "nbconvert_exporter": "python",
   "pygments_lexer": "ipython3",
   "version": "3.10.12"
  }
 },
 "nbformat": 4,
 "nbformat_minor": 2
}
